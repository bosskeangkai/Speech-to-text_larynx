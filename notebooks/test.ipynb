{
 "cells": [
  {
   "cell_type": "code",
   "execution_count": 1,
   "id": "3f3d55c8-1a75-440a-a6c2-db8397512516",
   "metadata": {},
   "outputs": [
    {
     "name": "stderr",
     "output_type": "stream",
     "text": [
      "Special tokens have been added in the vocabulary, make sure the associated word embeddings are fine-tuned or trained.\n"
     ]
    }
   ],
   "source": [
    "import torch\n",
    "import torchaudio\n",
    "from transformers import Wav2Vec2ForCTC, Wav2Vec2Processor\n",
    "\n",
    "# \n",
    "processor = Wav2Vec2Processor.from_pretrained(\"airesearch/wav2vec2-large-xlsr-53-th\")\n",
    "model = Wav2Vec2ForCTC.from_pretrained(\"airesearch/wav2vec2-large-xlsr-53-th\")\n",
    "device = torch.device('cuda' if torch.cuda.is_available() else 'cpu')\n",
    "\n",
    "def speech_file_to_array_fn(batch: dict) -> dict:\n",
    "    speech_array, sampling_rate = torchaudio.load(batch[\"path\"])\n",
    "    batch[\"speech\"] = speech_array[0]\n",
    "    batch[\"sampling_rate\"] = sampling_rate\n",
    "    return batch\n",
    "\n",
    "def resample(batch: dict) -> dict:\n",
    "    resampler=torchaudio.transforms.Resample(batch['sampling_rate'], 16_000)\n",
    "    batch[\"speech\"] = resampler(batch[\"speech\"]).numpy()\n",
    "    batch[\"sampling_rate\"] = 16_000\n",
    "    return batch\n",
    "\n",
    "def prepare_dataset(batch: dict) -> dict:\n",
    "    # check that all files have the correct sampling rate\n",
    "    batch[\"input_values\"] = processor(batch[\"speech\"], sampling_rate=batch[\"sampling_rate\"]).input_values\n",
    "    return batch\n",
    "\n",
    "def Wav2Vec2_larynx(file: str, tokenized: bool = False) -> str:\n",
    "    b = {}\n",
    "    b['path'] = file\n",
    "    a = prepare_dataset(resample(speech_file_to_array_fn(b)))\n",
    "    input_dict = processor(a[\"input_values\"][0], return_tensors=\"pt\", padding=True)\n",
    "    logits = model(input_dict.input_values).logits\n",
    "    pred_ids = torch.argmax(logits, dim=-1)[0]\n",
    "\n",
    "    if tokenized:\n",
    "        txt = processor.decode(pred_ids)\n",
    "    else:\n",
    "        txt = processor.decode(pred_ids).replace(' ','')\n",
    "    return txt"
   ]
  },
  {
   "cell_type": "code",
   "execution_count": 2,
   "id": "02742108-9b82-45fd-8873-c2c5ca2fcfba",
   "metadata": {},
   "outputs": [
    {
     "name": "stderr",
     "output_type": "stream",
     "text": [
      "It is strongly recommended to pass the ``sampling_rate`` argument to this function.Failing to do so can result in silent errors that might be hard to debug.\n"
     ]
    },
    {
     "data": {
      "text/plain": [
       "'ขณะนี้ โครงการ นี้ อยู่ ระหว่าง การพัฒนา เครื่อง สปัตเตอลิง   แบบ ดี   ซี   พรานา แมค นิ ตรอยด์'"
      ]
     },
     "execution_count": 2,
     "metadata": {},
     "output_type": "execute_result"
    }
   ],
   "source": [
    "# True จะเป็นการเรียกใช้คำสั่งแยกประโยค\n",
    "variableX2 = Wav2Vec2_larynx(\"./data/COF001_Pa001_003.wav\", True)\n",
    "variableX2"
   ]
  },
  {
   "cell_type": "code",
   "execution_count": null,
   "id": "5ef14259-7b0f-4cf7-959f-4280b80772ad",
   "metadata": {},
   "outputs": [],
   "source": []
  }
 ],
 "metadata": {
  "kernelspec": {
   "display_name": "Python 3",
   "language": "python",
   "name": "python3"
  },
  "language_info": {
   "codemirror_mode": {
    "name": "ipython",
    "version": 3
   },
   "file_extension": ".py",
   "mimetype": "text/x-python",
   "name": "python",
   "nbconvert_exporter": "python",
   "pygments_lexer": "ipython3",
   "version": "3.8.8"
  }
 },
 "nbformat": 4,
 "nbformat_minor": 5
}
